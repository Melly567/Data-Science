{
 "cells": [
  {
   "cell_type": "markdown",
   "id": "2f4e135d",
   "metadata": {},
   "source": [
    "# Data Science Tools and Ecosystem "
   ]
  },
  {
   "cell_type": "markdown",
   "id": "a5d46cf1",
   "metadata": {},
   "source": [
    "In this notebook, Data Science Tools and Ecosystem are summarized."
   ]
  },
  {
   "cell_type": "markdown",
   "id": "c45e5204",
   "metadata": {},
   "source": [
    "Some of the popular languages data scientists use are :\n",
    "Python\n",
    "SQL\n",
    "R\n",
    "Julia\n",
    "C language"
   ]
  },
  {
   "cell_type": "markdown",
   "id": "20350df9",
   "metadata": {},
   "source": [
    "Some of the commonly used libraries by data scientists used are:\n",
    "Pandas\n",
    "Numpy\n",
    "Matplotlib\n",
    "Seaborn\n",
    "Skicit-learn"
   ]
  },
  {
   "cell_type": "code",
   "execution_count": 1,
   "id": "59f8f3e2",
   "metadata": {},
   "outputs": [
    {
     "data": {
      "text/html": [
       "<div>\n",
       "<style scoped>\n",
       "    .dataframe tbody tr th:only-of-type {\n",
       "        vertical-align: middle;\n",
       "    }\n",
       "\n",
       "    .dataframe tbody tr th {\n",
       "        vertical-align: top;\n",
       "    }\n",
       "\n",
       "    .dataframe thead th {\n",
       "        text-align: right;\n",
       "    }\n",
       "</style>\n",
       "<table border=\"1\" class=\"dataframe\">\n",
       "  <thead>\n",
       "    <tr style=\"text-align: right;\">\n",
       "      <th></th>\n",
       "      <th>Data Science Tools</th>\n",
       "    </tr>\n",
       "  </thead>\n",
       "  <tbody>\n",
       "    <tr>\n",
       "      <th>0</th>\n",
       "      <td>Jupyter Notebook</td>\n",
       "    </tr>\n",
       "    <tr>\n",
       "      <th>1</th>\n",
       "      <td>RStudio</td>\n",
       "    </tr>\n",
       "    <tr>\n",
       "      <th>2</th>\n",
       "      <td>VSCode with Python</td>\n",
       "    </tr>\n",
       "  </tbody>\n",
       "</table>\n",
       "</div>"
      ],
      "text/plain": [
       "   Data Science Tools\n",
       "0    Jupyter Notebook\n",
       "1             RStudio\n",
       "2  VSCode with Python"
      ]
     },
     "execution_count": 1,
     "metadata": {},
     "output_type": "execute_result"
    }
   ],
   "source": [
    "import pandas as pd\n",
    "\n",
    "# Create a DataFrame\n",
    "data = {'Data Science Tools': ['Jupyter Notebook', 'RStudio', 'VSCode with Python']}\n",
    "df = pd.DataFrame(data)\n",
    "\n",
    "# Display the DataFrame as a table\n",
    "df\n"
   ]
  },
  {
   "cell_type": "markdown",
   "id": "01bda56c",
   "metadata": {},
   "source": [
    "# Below are a few examples of evaluating arithmetic expressions in Python\n"
   ]
  },
  {
   "cell_type": "code",
   "execution_count": 2,
   "id": "98b296d0",
   "metadata": {},
   "outputs": [
    {
     "data": {
      "text/plain": [
       "17"
      ]
     },
     "execution_count": 2,
     "metadata": {},
     "output_type": "execute_result"
    }
   ],
   "source": [
    "# This is a simple arithmetic expression to multiply 3 by 4 and then add 5.\n",
    "result = (3 * 4) + 5\n",
    "\n",
    "# Display the result\n",
    "result\n"
   ]
  },
  {
   "cell_type": "code",
   "execution_count": 3,
   "id": "80016676",
   "metadata": {},
   "outputs": [
    {
     "data": {
      "text/plain": [
       "3.3333333333333335"
      ]
     },
     "execution_count": 3,
     "metadata": {},
     "output_type": "execute_result"
    }
   ],
   "source": [
    "# This will convert 200 minutes to hours by dividing by 60.\n",
    "minutes = 200\n",
    "hours = minutes / 60\n",
    "\n",
    "# Display the result\n",
    "hours\n"
   ]
  },
  {
   "cell_type": "markdown",
   "id": "3d6d9516",
   "metadata": {},
   "source": [
    "Objectives\n",
    "\n",
    "- List popular programming languages for Data Science.\n",
    "- Demonstrate how to create and execute code cells in a Jupyter Notebook.\n",
    "- Illustrate basic arithmetic operations in Python.\n",
    "- Explain how to convert units in Python (e.g., minutes to hours).\n",
    "- Provide examples of using Markdown for formatting in Jupyter Notebook."
   ]
  },
  {
   "cell_type": "markdown",
   "id": "acf936ea",
   "metadata": {},
   "source": [
    "# Author"
   ]
  },
  {
   "cell_type": "markdown",
   "id": "f1bf61da",
   "metadata": {},
   "source": [
    "Melissa Onwuka"
   ]
  },
  {
   "cell_type": "code",
   "execution_count": null,
   "id": "601963df",
   "metadata": {},
   "outputs": [],
   "source": []
  }
 ],
 "metadata": {
  "kernelspec": {
   "display_name": "Python 3 (ipykernel)",
   "language": "python",
   "name": "python3"
  },
  "language_info": {
   "codemirror_mode": {
    "name": "ipython",
    "version": 3
   },
   "file_extension": ".py",
   "mimetype": "text/x-python",
   "name": "python",
   "nbconvert_exporter": "python",
   "pygments_lexer": "ipython3",
   "version": "3.11.3"
  }
 },
 "nbformat": 4,
 "nbformat_minor": 5
}
